{
 "cells": [
  {
   "cell_type": "code",
   "execution_count": 16,
   "metadata": {},
   "outputs": [],
   "source": [
    "import numpy as np\n",
    "from mlp.layers import Layer\n",
    "\n",
    "class TanhLayer(Layer):\n",
    "    \"\"\"Layer implementing an element-wise hyperbolic tangent transformation.\"\"\"\n",
    "\n",
    "    def fprop(self, inputs):\n",
    "        \"\"\"Forward propagates activations through the layer transformation.\n",
    "\n",
    "        For inputs `x` and outputs `y` this corresponds to `y = tanh(x)`.\n",
    "        \"\"\"\n",
    "        return (np.exp(inputs)-np.exp(-inputs))/(np.exp(inputs)+np.exp(-inputs))\n",
    "        #raise NotImplementedError('Delete this raise statement and write your code here instead.')\n",
    "\n",
    "    def bprop(self, inputs, outputs, grads_wrt_outputs):\n",
    "        \"\"\"Back propagates gradients through a layer.\n",
    "\n",
    "        Given gradients with respect to the outputs of the layer calculates the\n",
    "        gradients with respect to the layer inputs.\n",
    "        \"\"\"\n",
    "        return grads_wrt_outputs * (1-outputs**2)\n",
    "        #raise NotImplementedError('Delete this raise statement and write your code here instead.')\n",
    "\n",
    "    def __repr__(self):\n",
    "        return 'TanhLayer'\n",
    "    \n",
    "\n",
    "class ReluLayer(Layer):\n",
    "    \"\"\"Layer implementing an element-wise rectified linear transformation.\"\"\"\n",
    "\n",
    "    def fprop(self, inputs):\n",
    "        \"\"\"Forward propagates activations through the layer transformation.\n",
    "\n",
    "        For inputs `x` and outputs `y` this corresponds to `y = max(0, x)`.\n",
    "        \"\"\"\n",
    "        zero = np.zeros(inputs.shape)\n",
    "        return np.maximum(0,inputs)\n",
    "        #raise NotImplementedError('Delete this raise statement and write your code here instead.')\n",
    "\n",
    "    def bprop(self, inputs, outputs, grads_wrt_outputs):\n",
    "        \"\"\"Back propagates gradients through a layer.\n",
    "\n",
    "        Given gradients with respect to the outputs of the layer calculates the\n",
    "        gradients with respect to the layer inputs.\n",
    "        \"\"\"\n",
    "        zero = np.zeros(inputs.shape)\n",
    "        deriv = np.maximum(0,inputs)\n",
    "        return grads_wrt_outputs * np.int64(deriv>0)\n",
    "        #raise NotImplementedError('Delete this raise statement and write your code here instead.')\n",
    "\n",
    "    def __repr__(self):\n",
    "        return 'ReluLayer'"
   ]
  },
  {
   "cell_type": "code",
   "execution_count": 17,
   "metadata": {},
   "outputs": [
    {
     "name": "stdout",
     "output_type": "stream",
     "text": [
      "Outputs and gradients calculated correctly for TanhLayer.\n"
     ]
    }
   ],
   "source": [
    "test_inputs = np.array([[0.1, -0.2, 0.3], [-0.4, 0.5, -0.6]])\n",
    "test_grads_wrt_outputs = np.array([[5., 10., -10.], [-5., 0., 10.]])\n",
    "test_tanh_outputs = np.array(\n",
    "    [[ 0.09966799, -0.19737532,  0.29131261],\n",
    "     [-0.37994896,  0.46211716, -0.53704957]])\n",
    "test_tanh_grads_wrt_inputs = np.array(\n",
    "    [[ 4.95033145,  9.61042983, -9.15136962],\n",
    "     [-4.27819393,  0.,          7.11577763]])\n",
    "tanh_layer = TanhLayer()\n",
    "tanh_outputs = tanh_layer.fprop(test_inputs)\n",
    "all_correct = True\n",
    "if not tanh_outputs.shape == test_tanh_outputs.shape:\n",
    "    print('TanhLayer.fprop returned array with wrong shape.')\n",
    "    all_correct = False\n",
    "elif not np.allclose(test_tanh_outputs, tanh_outputs):\n",
    "    print('TanhLayer.fprop calculated incorrect outputs.')\n",
    "    all_correct = False\n",
    "tanh_grads_wrt_inputs = tanh_layer.bprop(\n",
    "    test_inputs, tanh_outputs, test_grads_wrt_outputs)\n",
    "if not tanh_grads_wrt_inputs.shape == test_tanh_grads_wrt_inputs.shape:\n",
    "    print('TanhLayer.bprop returned array with wrong shape.')\n",
    "    all_correct = False\n",
    "elif not np.allclose(tanh_grads_wrt_inputs, test_tanh_grads_wrt_inputs):\n",
    "    print('TanhLayer.bprop calculated incorrect gradients with respect to inputs.')\n",
    "    all_correct = False\n",
    "if all_correct:\n",
    "    print('Outputs and gradients calculated correctly for TanhLayer.')"
   ]
  },
  {
   "cell_type": "code",
   "execution_count": 18,
   "metadata": {},
   "outputs": [
    {
     "name": "stdout",
     "output_type": "stream",
     "text": [
      "Outputs and gradients calculated correctly for ReluLayer.\n"
     ]
    }
   ],
   "source": [
    "test_inputs = np.array([[0.1, -0.2, 0.3], [-0.4, 0.5, -0.6]])\n",
    "test_grads_wrt_outputs = np.array([[5., 10., -10.], [-5., 0., 10.]])\n",
    "test_relu_outputs = np.array([[0.1, 0., 0.3], [0., 0.5, 0.]])\n",
    "test_relu_grads_wrt_inputs = np.array([[5., 0., -10.], [-0., 0., 0.]])\n",
    "relu_layer = ReluLayer()\n",
    "relu_outputs = relu_layer.fprop(test_inputs)\n",
    "all_correct = True\n",
    "if not relu_outputs.shape == test_relu_outputs.shape:\n",
    "    print('ReluLayer.fprop returned array with wrong shape.')\n",
    "    all_correct = False\n",
    "elif not np.allclose(test_relu_outputs, relu_outputs):\n",
    "    print('ReluLayer.fprop calculated incorrect outputs.')\n",
    "    all_correct = False\n",
    "relu_grads_wrt_inputs = relu_layer.bprop(\n",
    "    test_inputs, relu_outputs, test_grads_wrt_outputs)\n",
    "if not relu_grads_wrt_inputs.shape == test_relu_grads_wrt_inputs.shape:\n",
    "    print('ReluLayer.bprop returned array with wrong shape.')\n",
    "    all_correct = False\n",
    "elif not np.allclose(relu_grads_wrt_inputs, test_relu_grads_wrt_inputs):\n",
    "    print('ReluLayer.bprop calculated incorrect gradients with respect to inputs.')\n",
    "    all_correct = False\n",
    "if all_correct:\n",
    "    print('Outputs and gradients calculated correctly for ReluLayer.')"
   ]
  },
  {
   "cell_type": "code",
   "execution_count": null,
   "metadata": {},
   "outputs": [],
   "source": []
  }
 ],
 "metadata": {
  "kernelspec": {
   "display_name": "Python 3",
   "language": "python",
   "name": "python3"
  },
  "language_info": {
   "codemirror_mode": {
    "name": "ipython",
    "version": 3
   },
   "file_extension": ".py",
   "mimetype": "text/x-python",
   "name": "python",
   "nbconvert_exporter": "python",
   "pygments_lexer": "ipython3",
   "version": "3.8.5"
  }
 },
 "nbformat": 4,
 "nbformat_minor": 4
}
