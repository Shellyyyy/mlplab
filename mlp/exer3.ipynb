{
 "cells": [
  {
   "cell_type": "code",
   "execution_count": 9,
   "metadata": {},
   "outputs": [],
   "source": [
    "import numpy as np\n",
    "def error(outputs, targets):\n",
    "    \"\"\"Calculates error function given a batch of outputs and targets.\n",
    "\n",
    "    Args:\n",
    "        outputs: Array of model outputs of shape (batch_size, output_dim).\n",
    "        targets: Array of target outputs of shape (batch_size, output_dim).\n",
    "\n",
    "    Returns:\n",
    "        Scalar error function value.\n",
    "        \n",
    "    \"\"\"\n",
    "    Error = np.dot((outputs-targets).T,outputs-targets)\n",
    "    return (Error[0,0]+Error[1,1])/(2*outputs.shape[0])\n",
    "    \n",
    "def error_grad(outputs, targets):\n",
    "    \"\"\"Calculates gradient of error function with respect to model outputs.\n",
    "\n",
    "    Args:\n",
    "        outputs: Array of model outputs of shape (batch_size, output_dim).\n",
    "        targets: Array of target outputs of shape (batch_size, output_dim).\n",
    "\n",
    "    Returns:\n",
    "        Gradient of error function with respect to outputs.\n",
    "        This will be an array of shape (batch_size, output_dim).\n",
    "    \"\"\"\n",
    "    return (outputs-targets)/outputs.shape[0]"
   ]
  },
  {
   "cell_type": "code",
   "execution_count": 10,
   "metadata": {},
   "outputs": [
    {
     "name": "stdout",
     "output_type": "stream",
     "text": [
      "Error function and gradient computed correctly!\n"
     ]
    }
   ],
   "source": [
    "outputs = np.array([[1., 2.], [-1., 0.], [6., -5.], [-1., 1.]])\n",
    "targets = np.array([[0., 1.], [3., -2.], [7., -3.], [1., -2.]])\n",
    "true_error = 5.\n",
    "true_error_grad = np.array([[0.25, 0.25], [-1., 0.5], [-0.25, -0.5], [-0.5, 0.75]])\n",
    "\n",
    "if not error(outputs, targets) == true_error:\n",
    "    print('Error calculated incorrectly.')\n",
    "elif not np.allclose(error_grad(outputs, targets), true_error_grad):\n",
    "    print('Error gradient calculated incorrectly.')\n",
    "else:\n",
    "    print('Error function and gradient computed correctly!')"
   ]
  },
  {
   "cell_type": "code",
   "execution_count": null,
   "metadata": {},
   "outputs": [],
   "source": []
  }
 ],
 "metadata": {
  "kernelspec": {
   "display_name": "Python 3",
   "language": "python",
   "name": "python3"
  },
  "language_info": {
   "codemirror_mode": {
    "name": "ipython",
    "version": 3
   },
   "file_extension": ".py",
   "mimetype": "text/x-python",
   "name": "python",
   "nbconvert_exporter": "python",
   "pygments_lexer": "ipython3",
   "version": "3.8.5"
  }
 },
 "nbformat": 4,
 "nbformat_minor": 4
}
