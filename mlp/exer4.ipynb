{
 "cells": [
  {
   "cell_type": "code",
   "execution_count": 12,
   "metadata": {},
   "outputs": [],
   "source": [
    "import numpy as np\n",
    "def grads_wrt_params(inputs, grads_wrt_outputs):\n",
    "    \"\"\"Calculates gradients with respect to model parameters.\n",
    "\n",
    "    Args:\n",
    "        inputs: array of inputs to model of shape (batch_size, input_dim)\n",
    "        grads_wrt_to_outputs: array of gradients of with respect to the model\n",
    "            outputs of shape (batch_size, output_dim).\n",
    "\n",
    "    Returns:\n",
    "        list of arrays of gradients with respect to the model parameters\n",
    "        `[grads_wrt_weights, grads_wrt_biases]`.\n",
    "    \"\"\"\n",
    "    return (grads_wrt_outputs.T @ inputs,grads_wrt_outputs.sum(axis=0))\n",
    "    \n",
    "    \n"
   ]
  },
  {
   "cell_type": "code",
   "execution_count": 13,
   "metadata": {},
   "outputs": [
    {
     "name": "stdout",
     "output_type": "stream",
     "text": [
      "[[ -3.   6. -21.]\n",
      " [  4. -10.  30.]]\n",
      "(2, 3)\n",
      "All parameter gradients calculated correctly!\n"
     ]
    }
   ],
   "source": [
    "inputs = np.array([[1., 2., 3.], [-1., 4., -9.]])\n",
    "grads_wrt_outputs = np.array([[-1., 1.], [2., -3.]])\n",
    "true_grads_wrt_weights = np.array([[-3., 6., -21.], [4., -10., 30.]])\n",
    "true_grads_wrt_biases = np.array([1., -2.])\n",
    "\n",
    "grads_wrt_weights, grads_wrt_biases = grads_wrt_params(\n",
    "    inputs, grads_wrt_outputs)\n",
    "\n",
    "if not np.allclose(true_grads_wrt_weights, grads_wrt_weights):\n",
    "    print('Gradients with respect to weights incorrect.')\n",
    "elif not np.allclose(true_grads_wrt_biases, grads_wrt_biases):\n",
    "    print('Gradients with respect to biases incorrect.')\n",
    "else:\n",
    "    print('All parameter gradients calculated correctly!')"
   ]
  },
  {
   "cell_type": "code",
   "execution_count": null,
   "metadata": {},
   "outputs": [],
   "source": []
  }
 ],
 "metadata": {
  "kernelspec": {
   "display_name": "Python 3",
   "language": "python",
   "name": "python3"
  },
  "language_info": {
   "codemirror_mode": {
    "name": "ipython",
    "version": 3
   },
   "file_extension": ".py",
   "mimetype": "text/x-python",
   "name": "python",
   "nbconvert_exporter": "python",
   "pygments_lexer": "ipython3",
   "version": "3.8.5"
  }
 },
 "nbformat": 4,
 "nbformat_minor": 4
}
